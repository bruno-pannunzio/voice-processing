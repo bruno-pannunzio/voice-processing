{
 "cells": [
  {
   "attachments": {},
   "cell_type": "markdown",
   "metadata": {},
   "source": [
    "# Notebook for training a convolutional neural network based on pre-trained VGG19 (transfer learning) for binary classification of spectrograms from voice audio recording"
   ]
  },
  {
   "cell_type": "code",
   "execution_count": 1,
   "metadata": {},
   "outputs": [],
   "source": [
    "\n",
    "import numpy as np\n",
    "import pandas as pd\n",
    "import tensorflow as tf\n",
    "import matplotlib.pyplot as plt\n",
    "import os\n",
    "import wave\n",
    "import pylab\n",
    "from pathlib import Path\n",
    "from scipy import signal\n",
    "from scipy.io import wavfile\n",
    "from sklearn.metrics import confusion_matrix\n",
    "import itertools\n",
    "\n",
    "\n"
   ]
  },
  {
   "cell_type": "code",
   "execution_count": 2,
   "metadata": {},
   "outputs": [
    {
     "data": {
      "text/plain": [
       "0.2962962962962963"
      ]
     },
     "execution_count": 2,
     "metadata": {},
     "output_type": "execute_result"
    }
   ],
   "source": [
    "data_labels = pd.read_csv('COVAREP_and_depression_data_mean.csv')\n",
    "\n",
    "patientId = 300\n",
    "data_labels['PHQ8_Binary'] = data_labels['PHQ8_Binary'].astype(int)\n",
    "# print(int(data_labels.loc[data_labels['patientId'] == patientId, 'PHQ8_Binary'].values[0]))\n",
    "\n",
    "labels = data_labels['PHQ8_Binary']\n",
    "\n",
    "sum(labels)/len(labels)"
   ]
  },
  {
   "cell_type": "code",
   "execution_count": 3,
   "metadata": {},
   "outputs": [
    {
     "name": "stdout",
     "output_type": "stream",
     "text": [
      "Found 8664 files belonging to 2 classes.\n",
      "Using 6065 files for training.\n",
      "Found 8664 files belonging to 2 classes.\n",
      "Using 2599 files for validation.\n"
     ]
    }
   ],
   "source": [
    "# Declare constants\n",
    "IMAGE_HEIGHT = 244 #640\n",
    "IMAGE_WIDTH = 244 #480\n",
    "BATCH_SIZE = 64\n",
    "N_CHANNELS = 3\n",
    "N_CLASSES = 1\n",
    "val_split = 0.3\n",
    "\n",
    "OUTPUT_DIR = 'spectrograms/10s'\n",
    "\n",
    "# Make a dataset containing the training spectrograms\n",
    "train_dataset = tf.keras.preprocessing.image_dataset_from_directory(directory = OUTPUT_DIR,\n",
    "                                             batch_size=BATCH_SIZE,\n",
    "                                             validation_split=val_split,\n",
    "                                             shuffle=True,\n",
    "                                             color_mode='rgb',\n",
    "                                             image_size=(IMAGE_HEIGHT, IMAGE_WIDTH),\n",
    "                                             subset=\"training\",\n",
    "                                             seed=10)\n",
    "\n",
    "# Make a dataset containing the validation spectrogram\n",
    "valid_dataset = tf.keras.preprocessing.image_dataset_from_directory(directory = OUTPUT_DIR,\n",
    "                                             batch_size=BATCH_SIZE,\n",
    "                                             validation_split=val_split,\n",
    "                                             shuffle=True,\n",
    "                                             color_mode='rgb',\n",
    "                                             image_size=(IMAGE_HEIGHT, IMAGE_WIDTH),\n",
    "                                             subset=\"validation\",\n",
    "                                             seed=10)\n",
    "\n"
   ]
  },
  {
   "cell_type": "code",
   "execution_count": 4,
   "metadata": {},
   "outputs": [
    {
     "name": "stdout",
     "output_type": "stream",
     "text": [
      "Model: \"model\"\n",
      "_________________________________________________________________\n",
      " Layer (type)                Output Shape              Param #   \n",
      "=================================================================\n",
      " input_1 (InputLayer)        [(None, 244, 244, 3)]     0         \n",
      "                                                                 \n",
      " block1_conv1 (Conv2D)       (None, 244, 244, 64)      1792      \n",
      "                                                                 \n",
      " block1_conv2 (Conv2D)       (None, 244, 244, 64)      36928     \n",
      "                                                                 \n",
      " block1_pool (MaxPooling2D)  (None, 122, 122, 64)      0         \n",
      "                                                                 \n",
      " block2_conv1 (Conv2D)       (None, 122, 122, 128)     73856     \n",
      "                                                                 \n",
      " block2_conv2 (Conv2D)       (None, 122, 122, 128)     147584    \n",
      "                                                                 \n",
      " block2_pool (MaxPooling2D)  (None, 61, 61, 128)       0         \n",
      "                                                                 \n",
      " block3_conv1 (Conv2D)       (None, 61, 61, 256)       295168    \n",
      "                                                                 \n",
      " block3_conv2 (Conv2D)       (None, 61, 61, 256)       590080    \n",
      "                                                                 \n",
      " block3_conv3 (Conv2D)       (None, 61, 61, 256)       590080    \n",
      "                                                                 \n",
      " block3_conv4 (Conv2D)       (None, 61, 61, 256)       590080    \n",
      "                                                                 \n",
      " block3_pool (MaxPooling2D)  (None, 30, 30, 256)       0         \n",
      "                                                                 \n",
      " block4_conv1 (Conv2D)       (None, 30, 30, 512)       1180160   \n",
      "                                                                 \n",
      " block4_conv2 (Conv2D)       (None, 30, 30, 512)       2359808   \n",
      "                                                                 \n",
      " block4_conv3 (Conv2D)       (None, 30, 30, 512)       2359808   \n",
      "                                                                 \n",
      " block4_conv4 (Conv2D)       (None, 30, 30, 512)       2359808   \n",
      "                                                                 \n",
      " block4_pool (MaxPooling2D)  (None, 15, 15, 512)       0         \n",
      "                                                                 \n",
      " block5_conv1 (Conv2D)       (None, 15, 15, 512)       2359808   \n",
      "                                                                 \n",
      " block5_conv2 (Conv2D)       (None, 15, 15, 512)       2359808   \n",
      "                                                                 \n",
      " block5_conv3 (Conv2D)       (None, 15, 15, 512)       2359808   \n",
      "                                                                 \n",
      " block5_conv4 (Conv2D)       (None, 15, 15, 512)       2359808   \n",
      "                                                                 \n",
      " block5_pool (MaxPooling2D)  (None, 7, 7, 512)         0         \n",
      "                                                                 \n",
      " flatten (Flatten)           (None, 25088)             0         \n",
      "                                                                 \n",
      " dense (Dense)               (None, 1)                 25089     \n",
      "                                                                 \n",
      "=================================================================\n",
      "Total params: 20,049,473\n",
      "Trainable params: 25,089\n",
      "Non-trainable params: 20,024,384\n",
      "_________________________________________________________________\n"
     ]
    }
   ],
   "source": [
    "# from glob import glob \n",
    "from tensorflow.keras.applications.vgg19 import VGG19\n",
    "from tensorflow.keras.layers import Input, Lambda, Dense, Flatten, RandomCrop\n",
    "from tensorflow.keras.models import Model\n",
    "\n",
    "IMAGE_SIZE = (IMAGE_HEIGHT, IMAGE_WIDTH, N_CHANNELS)\n",
    "\n",
    "# Create a VGG16 model, and removing the last layer that is classifying 1000 images. This will be replaced with images classes we have. \n",
    "# vgg = VGG16(input_shape=IMAGE_SIZE + [3], weights='imagenet', include_top=False) #Training with Imagenet weights\n",
    "# Use this line for VGG19 network. Create a VGG19 model, and removing the last layer that is classifying 1000 images. This will be replaced with images classes we have. \n",
    "vgg = VGG19(input_shape=IMAGE_SIZE, weights='imagenet', include_top=False)\n",
    "# This sets the base that the layers are not trainable. If we'd want to train the layers with custom data, these two lines can be ommitted. \n",
    "for layer in vgg.layers:\n",
    "  layer.trainable = False\n",
    "x = Flatten()(vgg.output) #Output obtained on vgg16 is now flattened. \n",
    "prediction = Dense(1, activation='sigmoid')(x) # We have 5 classes, and so, the prediction is being done on len(folders) - 5 classes\n",
    "#Creating model object \n",
    "model = Model(inputs=vgg.input, outputs=prediction)\n",
    "model.summary()"
   ]
  },
  {
   "cell_type": "code",
   "execution_count": 5,
   "metadata": {},
   "outputs": [
    {
     "name": "stdout",
     "output_type": "stream",
     "text": [
      "Epoch 1/20\n"
     ]
    },
    {
     "name": "stderr",
     "output_type": "stream",
     "text": [
      "2023-01-26 16:56:38.728185: W tensorflow/tsl/platform/profile_utils/cpu_utils.cc:128] Failed to get CPU frequency: 0 Hz\n"
     ]
    },
    {
     "name": "stdout",
     "output_type": "stream",
     "text": [
      "95/95 [==============================] - 1155s 12s/step - loss: 0.4627 - accuracy: 0.5258 - val_loss: 0.8818 - val_accuracy: 0.5694\n",
      "Epoch 2/20\n",
      "95/95 [==============================] - 1116s 12s/step - loss: 0.3577 - accuracy: 0.5815 - val_loss: 0.8333 - val_accuracy: 0.5779\n",
      "Epoch 3/20\n",
      "95/95 [==============================] - 1110s 12s/step - loss: 0.3087 - accuracy: 0.6223 - val_loss: 0.7194 - val_accuracy: 0.6337\n",
      "Epoch 4/20\n",
      "95/95 [==============================] - 1111s 12s/step - loss: 0.2764 - accuracy: 0.6655 - val_loss: 0.6976 - val_accuracy: 0.6345\n",
      "Epoch 5/20\n",
      "95/95 [==============================] - 1109s 12s/step - loss: 0.2529 - accuracy: 0.6932 - val_loss: 0.6715 - val_accuracy: 0.6526\n",
      "Epoch 6/20\n",
      "95/95 [==============================] - 1110s 12s/step - loss: 0.2372 - accuracy: 0.7115 - val_loss: 0.6552 - val_accuracy: 0.6703\n",
      "Epoch 7/20\n",
      "95/95 [==============================] - 1109s 12s/step - loss: 0.2257 - accuracy: 0.7316 - val_loss: 0.6540 - val_accuracy: 0.6722\n",
      "Epoch 8/20\n",
      "95/95 [==============================] - 1109s 12s/step - loss: 0.2067 - accuracy: 0.7537 - val_loss: 0.6467 - val_accuracy: 0.6706\n",
      "Epoch 9/20\n",
      "95/95 [==============================] - 1109s 12s/step - loss: 0.1987 - accuracy: 0.7697 - val_loss: 0.6349 - val_accuracy: 0.6914\n",
      "Epoch 10/20\n",
      "95/95 [==============================] - 1109s 12s/step - loss: 0.1865 - accuracy: 0.7955 - val_loss: 0.6384 - val_accuracy: 0.6745\n",
      "Epoch 11/20\n",
      "95/95 [==============================] - 1110s 12s/step - loss: 0.1781 - accuracy: 0.8092 - val_loss: 0.6327 - val_accuracy: 0.6830\n",
      "Epoch 12/20\n",
      "95/95 [==============================] - 1109s 12s/step - loss: 0.1703 - accuracy: 0.8219 - val_loss: 0.6682 - val_accuracy: 0.6591\n",
      "Epoch 13/20\n",
      "95/95 [==============================] - 1109s 12s/step - loss: 0.1651 - accuracy: 0.8310 - val_loss: 0.7129 - val_accuracy: 0.6295\n",
      "Epoch 14/20\n",
      "63/95 [==================>...........] - ETA: 4:22 - loss: 0.1595 - accuracy: 0.8383"
     ]
    },
    {
     "ename": "KeyboardInterrupt",
     "evalue": "",
     "output_type": "error",
     "traceback": [
      "\u001b[0;31m---------------------------------------------------------------------------\u001b[0m",
      "\u001b[0;31mKeyboardInterrupt\u001b[0m                         Traceback (most recent call last)",
      "Cell \u001b[0;32mIn[5], line 6\u001b[0m\n\u001b[1;32m      1\u001b[0m class_weights \u001b[39m=\u001b[39m {\n\u001b[1;32m      2\u001b[0m   \u001b[39m0\u001b[39m: \u001b[39m0.304\u001b[39m,\n\u001b[1;32m      3\u001b[0m   \u001b[39m1\u001b[39m: \u001b[39m0.696\u001b[39m,\n\u001b[1;32m      4\u001b[0m }\n\u001b[1;32m      5\u001b[0m model\u001b[39m.\u001b[39mcompile(loss\u001b[39m=\u001b[39m\u001b[39m'\u001b[39m\u001b[39mbinary_crossentropy\u001b[39m\u001b[39m'\u001b[39m, optimizer\u001b[39m=\u001b[39m tf\u001b[39m.\u001b[39mkeras\u001b[39m.\u001b[39moptimizers\u001b[39m.\u001b[39mAdam(learning_rate\u001b[39m=\u001b[39m\u001b[39m0.0001\u001b[39m), metrics\u001b[39m=\u001b[39m[\u001b[39m'\u001b[39m\u001b[39maccuracy\u001b[39m\u001b[39m'\u001b[39m]) \n\u001b[0;32m----> 6\u001b[0m history \u001b[39m=\u001b[39m model\u001b[39m.\u001b[39;49mfit(train_dataset, validation_data\u001b[39m=\u001b[39;49mvalid_dataset, epochs\u001b[39m=\u001b[39;49m\u001b[39m20\u001b[39;49m, batch_size\u001b[39m=\u001b[39;49m\u001b[39m64\u001b[39;49m, class_weight\u001b[39m=\u001b[39;49mclass_weights)\n",
      "File \u001b[0;32m~/Documents/PsyVox/voice-depression/venv/lib/python3.10/site-packages/keras/utils/traceback_utils.py:65\u001b[0m, in \u001b[0;36mfilter_traceback.<locals>.error_handler\u001b[0;34m(*args, **kwargs)\u001b[0m\n\u001b[1;32m     63\u001b[0m filtered_tb \u001b[39m=\u001b[39m \u001b[39mNone\u001b[39;00m\n\u001b[1;32m     64\u001b[0m \u001b[39mtry\u001b[39;00m:\n\u001b[0;32m---> 65\u001b[0m     \u001b[39mreturn\u001b[39;00m fn(\u001b[39m*\u001b[39;49margs, \u001b[39m*\u001b[39;49m\u001b[39m*\u001b[39;49mkwargs)\n\u001b[1;32m     66\u001b[0m \u001b[39mexcept\u001b[39;00m \u001b[39mException\u001b[39;00m \u001b[39mas\u001b[39;00m e:\n\u001b[1;32m     67\u001b[0m     filtered_tb \u001b[39m=\u001b[39m _process_traceback_frames(e\u001b[39m.\u001b[39m__traceback__)\n",
      "File \u001b[0;32m~/Documents/PsyVox/voice-depression/venv/lib/python3.10/site-packages/keras/engine/training.py:1650\u001b[0m, in \u001b[0;36mModel.fit\u001b[0;34m(self, x, y, batch_size, epochs, verbose, callbacks, validation_split, validation_data, shuffle, class_weight, sample_weight, initial_epoch, steps_per_epoch, validation_steps, validation_batch_size, validation_freq, max_queue_size, workers, use_multiprocessing)\u001b[0m\n\u001b[1;32m   1642\u001b[0m \u001b[39mwith\u001b[39;00m tf\u001b[39m.\u001b[39mprofiler\u001b[39m.\u001b[39mexperimental\u001b[39m.\u001b[39mTrace(\n\u001b[1;32m   1643\u001b[0m     \u001b[39m\"\u001b[39m\u001b[39mtrain\u001b[39m\u001b[39m\"\u001b[39m,\n\u001b[1;32m   1644\u001b[0m     epoch_num\u001b[39m=\u001b[39mepoch,\n\u001b[0;32m   (...)\u001b[0m\n\u001b[1;32m   1647\u001b[0m     _r\u001b[39m=\u001b[39m\u001b[39m1\u001b[39m,\n\u001b[1;32m   1648\u001b[0m ):\n\u001b[1;32m   1649\u001b[0m     callbacks\u001b[39m.\u001b[39mon_train_batch_begin(step)\n\u001b[0;32m-> 1650\u001b[0m     tmp_logs \u001b[39m=\u001b[39m \u001b[39mself\u001b[39;49m\u001b[39m.\u001b[39;49mtrain_function(iterator)\n\u001b[1;32m   1651\u001b[0m     \u001b[39mif\u001b[39;00m data_handler\u001b[39m.\u001b[39mshould_sync:\n\u001b[1;32m   1652\u001b[0m         context\u001b[39m.\u001b[39masync_wait()\n",
      "File \u001b[0;32m~/Documents/PsyVox/voice-depression/venv/lib/python3.10/site-packages/tensorflow/python/util/traceback_utils.py:150\u001b[0m, in \u001b[0;36mfilter_traceback.<locals>.error_handler\u001b[0;34m(*args, **kwargs)\u001b[0m\n\u001b[1;32m    148\u001b[0m filtered_tb \u001b[39m=\u001b[39m \u001b[39mNone\u001b[39;00m\n\u001b[1;32m    149\u001b[0m \u001b[39mtry\u001b[39;00m:\n\u001b[0;32m--> 150\u001b[0m   \u001b[39mreturn\u001b[39;00m fn(\u001b[39m*\u001b[39;49margs, \u001b[39m*\u001b[39;49m\u001b[39m*\u001b[39;49mkwargs)\n\u001b[1;32m    151\u001b[0m \u001b[39mexcept\u001b[39;00m \u001b[39mException\u001b[39;00m \u001b[39mas\u001b[39;00m e:\n\u001b[1;32m    152\u001b[0m   filtered_tb \u001b[39m=\u001b[39m _process_traceback_frames(e\u001b[39m.\u001b[39m__traceback__)\n",
      "File \u001b[0;32m~/Documents/PsyVox/voice-depression/venv/lib/python3.10/site-packages/tensorflow/python/eager/polymorphic_function/polymorphic_function.py:880\u001b[0m, in \u001b[0;36mFunction.__call__\u001b[0;34m(self, *args, **kwds)\u001b[0m\n\u001b[1;32m    877\u001b[0m compiler \u001b[39m=\u001b[39m \u001b[39m\"\u001b[39m\u001b[39mxla\u001b[39m\u001b[39m\"\u001b[39m \u001b[39mif\u001b[39;00m \u001b[39mself\u001b[39m\u001b[39m.\u001b[39m_jit_compile \u001b[39melse\u001b[39;00m \u001b[39m\"\u001b[39m\u001b[39mnonXla\u001b[39m\u001b[39m\"\u001b[39m\n\u001b[1;32m    879\u001b[0m \u001b[39mwith\u001b[39;00m OptionalXlaContext(\u001b[39mself\u001b[39m\u001b[39m.\u001b[39m_jit_compile):\n\u001b[0;32m--> 880\u001b[0m   result \u001b[39m=\u001b[39m \u001b[39mself\u001b[39;49m\u001b[39m.\u001b[39;49m_call(\u001b[39m*\u001b[39;49margs, \u001b[39m*\u001b[39;49m\u001b[39m*\u001b[39;49mkwds)\n\u001b[1;32m    882\u001b[0m new_tracing_count \u001b[39m=\u001b[39m \u001b[39mself\u001b[39m\u001b[39m.\u001b[39mexperimental_get_tracing_count()\n\u001b[1;32m    883\u001b[0m without_tracing \u001b[39m=\u001b[39m (tracing_count \u001b[39m==\u001b[39m new_tracing_count)\n",
      "File \u001b[0;32m~/Documents/PsyVox/voice-depression/venv/lib/python3.10/site-packages/tensorflow/python/eager/polymorphic_function/polymorphic_function.py:912\u001b[0m, in \u001b[0;36mFunction._call\u001b[0;34m(self, *args, **kwds)\u001b[0m\n\u001b[1;32m    909\u001b[0m   \u001b[39mself\u001b[39m\u001b[39m.\u001b[39m_lock\u001b[39m.\u001b[39mrelease()\n\u001b[1;32m    910\u001b[0m   \u001b[39m# In this case we have created variables on the first call, so we run the\u001b[39;00m\n\u001b[1;32m    911\u001b[0m   \u001b[39m# defunned version which is guaranteed to never create variables.\u001b[39;00m\n\u001b[0;32m--> 912\u001b[0m   \u001b[39mreturn\u001b[39;00m \u001b[39mself\u001b[39;49m\u001b[39m.\u001b[39;49m_no_variable_creation_fn(\u001b[39m*\u001b[39;49margs, \u001b[39m*\u001b[39;49m\u001b[39m*\u001b[39;49mkwds)  \u001b[39m# pylint: disable=not-callable\u001b[39;00m\n\u001b[1;32m    913\u001b[0m \u001b[39melif\u001b[39;00m \u001b[39mself\u001b[39m\u001b[39m.\u001b[39m_variable_creation_fn \u001b[39mis\u001b[39;00m \u001b[39mnot\u001b[39;00m \u001b[39mNone\u001b[39;00m:\n\u001b[1;32m    914\u001b[0m   \u001b[39m# Release the lock early so that multiple threads can perform the call\u001b[39;00m\n\u001b[1;32m    915\u001b[0m   \u001b[39m# in parallel.\u001b[39;00m\n\u001b[1;32m    916\u001b[0m   \u001b[39mself\u001b[39m\u001b[39m.\u001b[39m_lock\u001b[39m.\u001b[39mrelease()\n",
      "File \u001b[0;32m~/Documents/PsyVox/voice-depression/venv/lib/python3.10/site-packages/tensorflow/python/eager/polymorphic_function/tracing_compiler.py:134\u001b[0m, in \u001b[0;36mTracingCompiler.__call__\u001b[0;34m(self, *args, **kwargs)\u001b[0m\n\u001b[1;32m    131\u001b[0m \u001b[39mwith\u001b[39;00m \u001b[39mself\u001b[39m\u001b[39m.\u001b[39m_lock:\n\u001b[1;32m    132\u001b[0m   (concrete_function,\n\u001b[1;32m    133\u001b[0m    filtered_flat_args) \u001b[39m=\u001b[39m \u001b[39mself\u001b[39m\u001b[39m.\u001b[39m_maybe_define_function(args, kwargs)\n\u001b[0;32m--> 134\u001b[0m \u001b[39mreturn\u001b[39;00m concrete_function\u001b[39m.\u001b[39;49m_call_flat(\n\u001b[1;32m    135\u001b[0m     filtered_flat_args, captured_inputs\u001b[39m=\u001b[39;49mconcrete_function\u001b[39m.\u001b[39;49mcaptured_inputs)\n",
      "File \u001b[0;32m~/Documents/PsyVox/voice-depression/venv/lib/python3.10/site-packages/tensorflow/python/eager/polymorphic_function/monomorphic_function.py:1745\u001b[0m, in \u001b[0;36mConcreteFunction._call_flat\u001b[0;34m(self, args, captured_inputs, cancellation_manager)\u001b[0m\n\u001b[1;32m   1741\u001b[0m possible_gradient_type \u001b[39m=\u001b[39m gradients_util\u001b[39m.\u001b[39mPossibleTapeGradientTypes(args)\n\u001b[1;32m   1742\u001b[0m \u001b[39mif\u001b[39;00m (possible_gradient_type \u001b[39m==\u001b[39m gradients_util\u001b[39m.\u001b[39mPOSSIBLE_GRADIENT_TYPES_NONE\n\u001b[1;32m   1743\u001b[0m     \u001b[39mand\u001b[39;00m executing_eagerly):\n\u001b[1;32m   1744\u001b[0m   \u001b[39m# No tape is watching; skip to running the function.\u001b[39;00m\n\u001b[0;32m-> 1745\u001b[0m   \u001b[39mreturn\u001b[39;00m \u001b[39mself\u001b[39m\u001b[39m.\u001b[39m_build_call_outputs(\u001b[39mself\u001b[39;49m\u001b[39m.\u001b[39;49m_inference_function\u001b[39m.\u001b[39;49mcall(\n\u001b[1;32m   1746\u001b[0m       ctx, args, cancellation_manager\u001b[39m=\u001b[39;49mcancellation_manager))\n\u001b[1;32m   1747\u001b[0m forward_backward \u001b[39m=\u001b[39m \u001b[39mself\u001b[39m\u001b[39m.\u001b[39m_select_forward_and_backward_functions(\n\u001b[1;32m   1748\u001b[0m     args,\n\u001b[1;32m   1749\u001b[0m     possible_gradient_type,\n\u001b[1;32m   1750\u001b[0m     executing_eagerly)\n\u001b[1;32m   1751\u001b[0m forward_function, args_with_tangents \u001b[39m=\u001b[39m forward_backward\u001b[39m.\u001b[39mforward()\n",
      "File \u001b[0;32m~/Documents/PsyVox/voice-depression/venv/lib/python3.10/site-packages/tensorflow/python/eager/polymorphic_function/monomorphic_function.py:378\u001b[0m, in \u001b[0;36m_EagerDefinedFunction.call\u001b[0;34m(self, ctx, args, cancellation_manager)\u001b[0m\n\u001b[1;32m    376\u001b[0m \u001b[39mwith\u001b[39;00m _InterpolateFunctionError(\u001b[39mself\u001b[39m):\n\u001b[1;32m    377\u001b[0m   \u001b[39mif\u001b[39;00m cancellation_manager \u001b[39mis\u001b[39;00m \u001b[39mNone\u001b[39;00m:\n\u001b[0;32m--> 378\u001b[0m     outputs \u001b[39m=\u001b[39m execute\u001b[39m.\u001b[39;49mexecute(\n\u001b[1;32m    379\u001b[0m         \u001b[39mstr\u001b[39;49m(\u001b[39mself\u001b[39;49m\u001b[39m.\u001b[39;49msignature\u001b[39m.\u001b[39;49mname),\n\u001b[1;32m    380\u001b[0m         num_outputs\u001b[39m=\u001b[39;49m\u001b[39mself\u001b[39;49m\u001b[39m.\u001b[39;49m_num_outputs,\n\u001b[1;32m    381\u001b[0m         inputs\u001b[39m=\u001b[39;49margs,\n\u001b[1;32m    382\u001b[0m         attrs\u001b[39m=\u001b[39;49mattrs,\n\u001b[1;32m    383\u001b[0m         ctx\u001b[39m=\u001b[39;49mctx)\n\u001b[1;32m    384\u001b[0m   \u001b[39melse\u001b[39;00m:\n\u001b[1;32m    385\u001b[0m     outputs \u001b[39m=\u001b[39m execute\u001b[39m.\u001b[39mexecute_with_cancellation(\n\u001b[1;32m    386\u001b[0m         \u001b[39mstr\u001b[39m(\u001b[39mself\u001b[39m\u001b[39m.\u001b[39msignature\u001b[39m.\u001b[39mname),\n\u001b[1;32m    387\u001b[0m         num_outputs\u001b[39m=\u001b[39m\u001b[39mself\u001b[39m\u001b[39m.\u001b[39m_num_outputs,\n\u001b[0;32m   (...)\u001b[0m\n\u001b[1;32m    390\u001b[0m         ctx\u001b[39m=\u001b[39mctx,\n\u001b[1;32m    391\u001b[0m         cancellation_manager\u001b[39m=\u001b[39mcancellation_manager)\n",
      "File \u001b[0;32m~/Documents/PsyVox/voice-depression/venv/lib/python3.10/site-packages/tensorflow/python/eager/execute.py:52\u001b[0m, in \u001b[0;36mquick_execute\u001b[0;34m(op_name, num_outputs, inputs, attrs, ctx, name)\u001b[0m\n\u001b[1;32m     50\u001b[0m \u001b[39mtry\u001b[39;00m:\n\u001b[1;32m     51\u001b[0m   ctx\u001b[39m.\u001b[39mensure_initialized()\n\u001b[0;32m---> 52\u001b[0m   tensors \u001b[39m=\u001b[39m pywrap_tfe\u001b[39m.\u001b[39;49mTFE_Py_Execute(ctx\u001b[39m.\u001b[39;49m_handle, device_name, op_name,\n\u001b[1;32m     53\u001b[0m                                       inputs, attrs, num_outputs)\n\u001b[1;32m     54\u001b[0m \u001b[39mexcept\u001b[39;00m core\u001b[39m.\u001b[39m_NotOkStatusException \u001b[39mas\u001b[39;00m e:\n\u001b[1;32m     55\u001b[0m   \u001b[39mif\u001b[39;00m name \u001b[39mis\u001b[39;00m \u001b[39mnot\u001b[39;00m \u001b[39mNone\u001b[39;00m:\n",
      "\u001b[0;31mKeyboardInterrupt\u001b[0m: "
     ]
    }
   ],
   "source": [
    "class_weights = {\n",
    "  0: 0.304,\n",
    "  1: 0.696,\n",
    "}\n",
    "model.compile(loss='binary_crossentropy', optimizer= tf.keras.optimizers.Adam(learning_rate=0.0001), metrics=['accuracy']) \n",
    "history = model.fit(train_dataset, validation_data=valid_dataset, epochs=20, batch_size=64, class_weight=class_weights)"
   ]
  },
  {
   "cell_type": "code",
   "execution_count": null,
   "metadata": {},
   "outputs": [],
   "source": [
    "# loss\n",
    " plt.plot(history.history['loss'], label='train loss')\n",
    " plt.plot(history.history['val_loss'], label='val loss')\n",
    " plt.legend()\n",
    " plt.show()\n",
    " \n",
    " # accuracies\n",
    " plt.plot(history.history['accuracy'], label='train acc')\n",
    " plt.plot(history.history['val_accuracy'], label='val acc')\n",
    " plt.legend()\n",
    " plt.show()"
   ]
  },
  {
   "cell_type": "code",
   "execution_count": null,
   "metadata": {},
   "outputs": [
    {
     "name": "stdout",
     "output_type": "stream",
     "text": [
      "Model: \"sequential_42\"\n",
      "_________________________________________________________________\n",
      " Layer (type)                Output Shape              Param #   \n",
      "=================================================================\n",
      " conv2d_38 (Conv2D)          (None, 128, 128, 8)       608       \n",
      "                                                                 \n",
      " batch_normalization_35 (Bat  (None, 128, 128, 8)      32        \n",
      " chNormalization)                                                \n",
      "                                                                 \n",
      " max_pooling2d_36 (MaxPoolin  (None, 64, 64, 8)        0         \n",
      " g2D)                                                            \n",
      "                                                                 \n",
      " batch_normalization_36 (Bat  (None, 64, 64, 8)        32        \n",
      " chNormalization)                                                \n",
      "                                                                 \n",
      " conv2d_39 (Conv2D)          (None, 64, 64, 12)        876       \n",
      "                                                                 \n",
      " batch_normalization_37 (Bat  (None, 64, 64, 12)       48        \n",
      " chNormalization)                                                \n",
      "                                                                 \n",
      " max_pooling2d_37 (MaxPoolin  (None, 32, 32, 12)       0         \n",
      " g2D)                                                            \n",
      "                                                                 \n",
      " batch_normalization_38 (Bat  (None, 32, 32, 12)       48        \n",
      " chNormalization)                                                \n",
      "                                                                 \n",
      " conv2d_40 (Conv2D)          (None, 32, 32, 24)        2616      \n",
      "                                                                 \n",
      " batch_normalization_39 (Bat  (None, 32, 32, 24)       96        \n",
      " chNormalization)                                                \n",
      "                                                                 \n",
      " max_pooling2d_38 (MaxPoolin  (None, 16, 16, 24)       0         \n",
      " g2D)                                                            \n",
      "                                                                 \n",
      " batch_normalization_40 (Bat  (None, 16, 16, 24)       96        \n",
      " chNormalization)                                                \n",
      "                                                                 \n",
      " flatten_42 (Flatten)        (None, 6144)              0         \n",
      "                                                                 \n",
      " dense_94 (Dense)            (None, 16)                98320     \n",
      "                                                                 \n",
      " batch_normalization_41 (Bat  (None, 16)               64        \n",
      " chNormalization)                                                \n",
      "                                                                 \n",
      " dropout_16 (Dropout)        (None, 16)                0         \n",
      "                                                                 \n",
      " dense_95 (Dense)            (None, 1)                 17        \n",
      "                                                                 \n",
      "=================================================================\n",
      "Total params: 102,853\n",
      "Trainable params: 102,645\n",
      "Non-trainable params: 208\n",
      "_________________________________________________________________\n"
     ]
    }
   ],
   "source": [
    "model = tf.keras.models.Sequential()\n",
    "model.add(tf.keras.layers.Input(shape=(IMAGE_HEIGHT, IMAGE_WIDTH, N_CHANNELS)))\n",
    "model.add(tf.keras.layers.Conv2D(8, 5, strides=2, padding='same', activation='relu'))\n",
    "model.add(tf.keras.layers.BatchNormalization())\n",
    "model.add(tf.keras.layers.MaxPooling2D(pool_size=(2, 2)))\n",
    "model.add(tf.keras.layers.BatchNormalization())\n",
    "model.add(tf.keras.layers.Conv2D(12, 3, strides = 1, padding='same', activation='relu'))\n",
    "model.add(tf.keras.layers.BatchNormalization())\n",
    "model.add(tf.keras.layers.MaxPooling2D(pool_size=(2, 2)))\n",
    "model.add(tf.keras.layers.BatchNormalization())\n",
    "model.add(tf.keras.layers.Conv2D(24, 3, padding='same', activation='relu'))\n",
    "model.add(tf.keras.layers.BatchNormalization())\n",
    "model.add(tf.keras.layers.MaxPooling2D(pool_size=(2, 2)))\n",
    "model.add(tf.keras.layers.BatchNormalization())\n",
    "model.add(tf.keras.layers.Flatten())\n",
    "model.add(tf.keras.layers.Dense(16, activation='relu'))\n",
    "model.add(tf.keras.layers.BatchNormalization())\n",
    "model.add(tf.keras.layers.Dropout(0.5))\n",
    "model.add(tf.keras.layers.Dense(N_CLASSES, activation='sigmoid'))\n",
    "\n",
    "\n",
    "# Compile model\n",
    "model.compile(\n",
    "    loss=tf.keras.losses.BinaryCrossentropy(\n",
    "    # from_logits=True,\n",
    "    # label_smoothing=0.4,\n",
    "    # axis=-1,\n",
    "    # reduction=\"auto\",\n",
    "    name=\"binary_crossentropy\",\n",
    "),\n",
    "    optimizer= tf.keras.optimizers.Adam(learning_rate=0.0001),\n",
    "    metrics=[tf.keras.metrics.BinaryAccuracy(\n",
    "    name='binary_accuracy', dtype=None, threshold=0.5\n",
    ")],\n",
    ")\n",
    "\n",
    "model.summary()"
   ]
  },
  {
   "cell_type": "code",
   "execution_count": null,
   "metadata": {},
   "outputs": [
    {
     "name": "stdout",
     "output_type": "stream",
     "text": [
      "Epoch 1/30\n",
      "248/248 [==============================] - 30s 117ms/step - loss: 0.9299 - binary_accuracy: 0.5399 - val_loss: 0.7109 - val_binary_accuracy: 0.5593\n",
      "Epoch 2/30\n",
      "248/248 [==============================] - 29s 117ms/step - loss: 0.8079 - binary_accuracy: 0.5680 - val_loss: 0.6958 - val_binary_accuracy: 0.5912\n",
      "Epoch 3/30\n",
      "248/248 [==============================] - 29s 117ms/step - loss: 0.7525 - binary_accuracy: 0.5901 - val_loss: 0.6726 - val_binary_accuracy: 0.5986\n",
      "Epoch 4/30\n",
      "248/248 [==============================] - 29s 118ms/step - loss: 0.7244 - binary_accuracy: 0.6078 - val_loss: 0.6926 - val_binary_accuracy: 0.6042\n",
      "Epoch 5/30\n",
      "248/248 [==============================] - 29s 117ms/step - loss: 0.6848 - binary_accuracy: 0.6318 - val_loss: 0.6638 - val_binary_accuracy: 0.6231\n",
      "Epoch 6/30\n",
      "248/248 [==============================] - 29s 118ms/step - loss: 0.6432 - binary_accuracy: 0.6556 - val_loss: 0.8224 - val_binary_accuracy: 0.6290\n",
      "Epoch 7/30\n",
      "248/248 [==============================] - 30s 118ms/step - loss: 0.6116 - binary_accuracy: 0.6788 - val_loss: 0.7316 - val_binary_accuracy: 0.6021\n",
      "Epoch 8/30\n",
      "248/248 [==============================] - 30s 118ms/step - loss: 0.6045 - binary_accuracy: 0.6802 - val_loss: 0.6509 - val_binary_accuracy: 0.6313\n",
      "Epoch 9/30\n",
      "248/248 [==============================] - 29s 118ms/step - loss: 0.5627 - binary_accuracy: 0.7071 - val_loss: 0.6682 - val_binary_accuracy: 0.6411\n",
      "Epoch 10/30\n",
      "248/248 [==============================] - 30s 118ms/step - loss: 0.5438 - binary_accuracy: 0.7256 - val_loss: 0.6540 - val_binary_accuracy: 0.6488\n",
      "Epoch 11/30\n",
      "248/248 [==============================] - 30s 118ms/step - loss: 0.5138 - binary_accuracy: 0.7420 - val_loss: 0.6612 - val_binary_accuracy: 0.6455\n",
      "Epoch 12/30\n",
      "248/248 [==============================] - 30s 118ms/step - loss: 0.4905 - binary_accuracy: 0.7632 - val_loss: 0.6501 - val_binary_accuracy: 0.6612\n",
      "Epoch 13/30\n",
      "248/248 [==============================] - 30s 119ms/step - loss: 0.4758 - binary_accuracy: 0.7703 - val_loss: 0.6464 - val_binary_accuracy: 0.6756\n",
      "Epoch 14/30\n",
      "248/248 [==============================] - 29s 118ms/step - loss: 0.4557 - binary_accuracy: 0.7847 - val_loss: 0.6041 - val_binary_accuracy: 0.6827\n",
      "Epoch 15/30\n",
      "248/248 [==============================] - 30s 119ms/step - loss: 0.4412 - binary_accuracy: 0.7922 - val_loss: 0.6920 - val_binary_accuracy: 0.6443\n",
      "Epoch 16/30\n",
      "248/248 [==============================] - 30s 119ms/step - loss: 0.4249 - binary_accuracy: 0.8123 - val_loss: 0.6078 - val_binary_accuracy: 0.6995\n",
      "Epoch 17/30\n",
      "248/248 [==============================] - 30s 119ms/step - loss: 0.3965 - binary_accuracy: 0.8280 - val_loss: 0.6724 - val_binary_accuracy: 0.6573\n",
      "Epoch 18/30\n",
      "248/248 [==============================] - 29s 118ms/step - loss: 0.3816 - binary_accuracy: 0.8345 - val_loss: 0.6136 - val_binary_accuracy: 0.7004\n",
      "Epoch 19/30\n",
      "248/248 [==============================] - 30s 119ms/step - loss: 0.3650 - binary_accuracy: 0.8443 - val_loss: 0.5804 - val_binary_accuracy: 0.7181\n",
      "Epoch 20/30\n",
      "248/248 [==============================] - 30s 119ms/step - loss: 0.3560 - binary_accuracy: 0.8494 - val_loss: 0.6157 - val_binary_accuracy: 0.6960\n",
      "Epoch 21/30\n",
      "248/248 [==============================] - 29s 118ms/step - loss: 0.3475 - binary_accuracy: 0.8546 - val_loss: 0.5828 - val_binary_accuracy: 0.7296\n",
      "Epoch 22/30\n",
      "248/248 [==============================] - 29s 118ms/step - loss: 0.3200 - binary_accuracy: 0.8758 - val_loss: 0.5984 - val_binary_accuracy: 0.7199\n",
      "Epoch 23/30\n",
      "248/248 [==============================] - 29s 118ms/step - loss: 0.3027 - binary_accuracy: 0.8810 - val_loss: 0.5738 - val_binary_accuracy: 0.7409\n",
      "Epoch 24/30\n",
      "248/248 [==============================] - 30s 118ms/step - loss: 0.2917 - binary_accuracy: 0.8873 - val_loss: 0.6404 - val_binary_accuracy: 0.7007\n",
      "Epoch 25/30\n",
      "248/248 [==============================] - 29s 117ms/step - loss: 0.3198 - binary_accuracy: 0.8672 - val_loss: 0.5903 - val_binary_accuracy: 0.7273\n",
      "Epoch 26/30\n",
      "248/248 [==============================] - 29s 117ms/step - loss: 0.2931 - binary_accuracy: 0.8834 - val_loss: 0.6314 - val_binary_accuracy: 0.7276\n",
      "Epoch 27/30\n",
      "248/248 [==============================] - 29s 118ms/step - loss: 0.2710 - binary_accuracy: 0.8930 - val_loss: 0.5535 - val_binary_accuracy: 0.7671\n",
      "Epoch 28/30\n",
      "248/248 [==============================] - 29s 117ms/step - loss: 0.2532 - binary_accuracy: 0.9050 - val_loss: 0.5865 - val_binary_accuracy: 0.7476\n",
      "Epoch 29/30\n",
      "248/248 [==============================] - 29s 118ms/step - loss: 0.2427 - binary_accuracy: 0.9119 - val_loss: 0.5876 - val_binary_accuracy: 0.7485\n",
      "Epoch 30/30\n",
      "248/248 [==============================] - 29s 118ms/step - loss: 0.2481 - binary_accuracy: 0.9030 - val_loss: 0.5953 - val_binary_accuracy: 0.7411\n"
     ]
    }
   ],
   "source": [
    "# Train model for 10 epochs, capture the history\n",
    "# class_weights = {\n",
    "#   0: 0.696,\n",
    "#   1: 0.304,\n",
    "# }\n",
    "\n",
    "history = model.fit(train_dataset, epochs=20, validation_data=valid_dataset)"
   ]
  },
  {
   "cell_type": "code",
   "execution_count": null,
   "metadata": {},
   "outputs": [
    {
     "data": {
      "image/png": "[encoded data removed]",
      "text/plain": [
       "<Figure size 800x600 with 1 Axes>"
      ]
     },
     "metadata": {},
     "output_type": "display_data"
    }
   ],
   "source": [
    "# Plot the loss curves for training and validation.\n",
    "history_dict = history.history\n",
    "loss_values = history_dict['loss']\n",
    "val_loss_values = history_dict['val_loss']\n",
    "epochs = range(1, len(loss_values)+1)\n",
    "\n",
    "plt.figure(figsize=(8,6))\n",
    "plt.plot(epochs, loss_values, 'bo', label='Training loss')\n",
    "plt.plot(epochs, val_loss_values, 'b', label='Validation loss')\n",
    "plt.title('Training and validation loss')\n",
    "plt.xlabel('Epochs')\n",
    "plt.ylabel('Loss')\n",
    "plt.legend()\n",
    "plt.show()"
   ]
  },
  {
   "cell_type": "code",
   "execution_count": null,
   "metadata": {},
   "outputs": [
    {
     "name": "stdout",
     "output_type": "stream",
     "text": [
      "Final loss: 0.595279, final accuracy: 0.741145\n"
     ]
    }
   ],
   "source": [
    "# Compute the final loss and accuracy\n",
    "final_loss, final_acc = model.evaluate(valid_dataset, verbose=0)\n",
    "print(\"Final loss: {0:.6f}, final accuracy: {1:.6f}\".format(final_loss, final_acc))"
   ]
  },
  {
   "cell_type": "code",
   "execution_count": null,
   "metadata": {},
   "outputs": [
    {
     "name": "stdout",
     "output_type": "stream",
     "text": [
      "106/106 [==============================] - 5s 40ms/step\n",
      "[0 0 1 1 1 0 1 0 1 0 0 0 0 1 1 1 1 1 0 0]\n",
      "[[0.72870976]\n",
      " [0.8626487 ]\n",
      " [0.7827252 ]\n",
      " [0.2631674 ]\n",
      " [0.98654395]\n",
      " [0.4960212 ]\n",
      " [0.76309663]\n",
      " [0.16351902]\n",
      " [0.9362241 ]\n",
      " [0.41709682]\n",
      " [0.4079027 ]\n",
      " [0.4838369 ]\n",
      " [0.7662487 ]\n",
      " [0.831174  ]\n",
      " [0.88505286]\n",
      " [0.96765625]\n",
      " [0.38639778]\n",
      " [0.79348165]\n",
      " [0.34304243]\n",
      " [0.17759466]]\n",
      "[1]\n"
     ]
    }
   ],
   "source": [
    "predicted_probs2 = model.predict(valid_dataset)\n",
    "predicted_probs = predicted_probs>=0.5\n",
    "y = np.concatenate([y for x, y in valid_dataset], axis=0)\n",
    "\n",
    "print(y[0:20])\n",
    "print(predicted_probs2[0:20])\n",
    "print(sum(predicted_probs))"
   ]
  }
 ],
 "metadata": {
  "kernelspec": {
   "display_name": "Python 3",
   "language": "python",
   "name": "python3"
  },
  "language_info": {
   "codemirror_mode": {
    "name": "ipython",
    "version": 3
   },
   "file_extension": ".py",
   "mimetype": "text/x-python",
   "name": "python",
   "nbconvert_exporter": "python",
   "pygments_lexer": "ipython3",
   "version": "3.10.9 (main, Dec 15 2022, 10:44:50) [Clang 14.0.0 (clang-1400.0.29.202)]"
  },
  "orig_nbformat": 4,
  "vscode": {
   "interpreter": {
    "hash": "b0fa6594d8f4cbf19f97940f81e996739fb7646882a419484c72d19e05852a7e"
   }
  }
 },
 "nbformat": 4,
 "nbformat_minor": 2
}
