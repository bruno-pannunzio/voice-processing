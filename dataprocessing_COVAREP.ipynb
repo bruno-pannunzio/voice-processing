{
 "cells": [
  {
   "attachments": {},
   "cell_type": "markdown",
   "metadata": {},
   "source": [
    "# Notebook for processing depression labels and features extracted from COVAREP\n",
    "\n",
    "Processing of data from COVAREP feature extraction. First gather all data from questionnaires and gender from participants which are collected from 3 different files. Then import COVAREP data from all participants (one file per participant), calculate the mean for each feature for each participant and create a dataframe that stores means for all features for all participants. "
   ]
  },
  {
   "cell_type": "code",
   "execution_count": 1,
   "metadata": {},
   "outputs": [],
   "source": [
    "import pandas as pd\n",
    "import numpy as np"
   ]
  },
  {
   "attachments": {},
   "cell_type": "markdown",
   "metadata": {},
   "source": [
    "### Import and process questionnaire and gender data"
   ]
  },
  {
   "cell_type": "code",
   "execution_count": 2,
   "metadata": {},
   "outputs": [],
   "source": [
    "depression_data_train = pd.read_csv('train_split_Depression_AVEC2017.csv')\n",
    "colnames=['Participant_ID', 'PHQ8_Binary', 'PHQ8_Score', 'Gender']\n",
    "depression_data_test = pd.read_csv('full_test_split.csv', names = colnames)\n",
    "\n",
    "depression_data_train = depression_data_train[['Participant_ID', 'PHQ8_Binary', 'PHQ8_Score', 'Gender']]\n",
    "depression_data_dev = pd.read_csv('dev_split_Depression_AVEC2017.csv')\n",
    "depression_data_dev = depression_data_dev[['Participant_ID', 'PHQ8_Binary', 'PHQ8_Score', 'Gender']]\n",
    "depression_data = pd.concat([depression_data_train, depression_data_test, depression_data_dev], axis = 0)\n",
    "\n",
    "#Convert columns into numeric features\n",
    "depression_data['Participant_ID'] = pd.to_numeric(depression_data['Participant_ID'], errors ='coerce')\n",
    "depression_data['PHQ8_Binary'] = pd.to_numeric(depression_data['PHQ8_Binary'], errors ='coerce')\n",
    "depression_data['PHQ8_Score'] = pd.to_numeric(depression_data['PHQ8_Score'], errors ='coerce')\n",
    "depression_data['Gender'] = pd.to_numeric(depression_data['Gender'], errors ='coerce')"
   ]
  },
  {
   "attachments": {},
   "cell_type": "markdown",
   "metadata": {},
   "source": [
    "## Import COVAREP datafiles and assign column names "
   ]
  },
  {
   "cell_type": "code",
   "execution_count": 4,
   "metadata": {},
   "outputs": [],
   "source": [
    "#assign column names for COVAREP dataframe\n",
    "column_names = ['F0','VUV','NAQ','QOQ','H1H2','PSP','MDQ','peakSlope','Rd',\n",
    "'Rd_conf','creak','MCEP_0','MCEP_1','MCEP_2','MCEP_3','MCEP_4','MCEP_5',\n",
    "'MCEP_6','MCEP_7','MCEP_8','MCEP_9','MCEP_10','MCEP_11','MCEP_12',\n",
    "'MCEP_13','MCEP_14','MCEP_15','MCEP_16','MCEP_17','MCEP_18', \n",
    "'MCEP_19','MCEP_20','MCEP_21','MCEP_22','MCEP_23','MCEP_24',\n",
    "'HMPDM_0','HMPDM_1','HMPDM_2','HMPDM_3','HMPDM_4','HMPDM_5', \n",
    "'HMPDM_6','HMPDM_7','HMPDM_8','HMPDM_9','HMPDM_10','HMPDM_11','HMPDM_12', \n",
    "'HMPDM_13','HMPDM_14','HMPDM_15','HMPDM_16','HMPDM_17','HMPDM_18', \n",
    "'HMPDM_19','HMPDM_20','HMPDM_21','HMPDM_22','HMPDM_23','HMPDM_24',\n",
    "'HMPDD_0','HMPDD_1','HMPDD_2','HMPDD_3','HMPDD_4','HMPDD_5', \n",
    "'HMPDD_6','HMPDD_7','HMPDD_8','HMPDD_9','HMPDD_10','HMPDD_11','HMPDD_12']\n",
    "\n",
    "#Function to import COVAREP data from .csv into a dataframe\n",
    "def import_csv(patientId):\n",
    "    data = pd.read_csv(\"COVAREP/{}_COVAREP.csv\".format(patientId), names = column_names, header=None)\n",
    "    participant_data = data.loc[data['VUV'] == 1] #locate rows when participant speaks\n",
    "    patient_depression_binary = depression_data.loc[depression_data['Participant_ID'] == patientId]['PHQ8_Binary'].values[0]\n",
    "    patient_depression_score = depression_data.loc[depression_data['Participant_ID'] == patientId]['PHQ8_Score'].values[0]\n",
    "    patient_gender = depression_data.loc[depression_data['Participant_ID'] == patientId]['Gender'].values[0]\n",
    "    #append data from questionnaires and gender to heach particpant from previous dataframe with questionnaire data\n",
    "    participant_data['PHQ8_Binary'] = np.full((1,participant_data.shape[0]),patient_depression_binary).T\n",
    "    participant_data['PHQ8_Score'] = np.full((1,participant_data.shape[0]),patient_depression_score).T\n",
    "    participant_data['Gender'] = np.full((1,participant_data.shape[0]),patient_gender).T\n",
    "    return participant_data"
   ]
  },
  {
   "cell_type": "code",
   "execution_count": null,
   "metadata": {},
   "outputs": [],
   "source": [
    "participants_total_data = pd.DataFrame([]) #create empty dataframe\n",
    "\n",
    "for patientId in range(300, 492):\n",
    "    if (patientId == 342 or patientId == 394 or patientId == 398 or patientId == 460):\n",
    "        print(\"no patient\") #except patients with no data\n",
    "    else:\n",
    "        participants_total_data = pd.concat([participants_total_data, import_csv(patientId)]) #append to created dataframe the data imported from covarep for each participant\n",
    "\n",
    "participants_total_data\n"
   ]
  },
  {
   "cell_type": "code",
   "execution_count": 7,
   "metadata": {},
   "outputs": [],
   "source": [
    "#export dataframe with COVAREP data for all participants. This has data of each patient every 10 ms\n",
    "participants_total_data.to_csv('COVAREP_and_depression_data.csv')"
   ]
  },
  {
   "attachments": {},
   "cell_type": "markdown",
   "metadata": {},
   "source": [
    "#### Similar to previous but at the moment of importing .csv data calculate mean for every feature for each participant"
   ]
  },
  {
   "cell_type": "code",
   "execution_count": 9,
   "metadata": {},
   "outputs": [
    {
     "name": "stdout",
     "output_type": "stream",
     "text": [
      "no patient\n",
      "no patient\n",
      "no patient\n",
      "no patient\n"
     ]
    }
   ],
   "source": [
    "def import_csv_mean(patientId):\n",
    "    data = pd.read_csv(\"COVAREP/{}_COVAREP.csv\".format(patientId), names = column_names, header=None)\n",
    "    participant_data = data.loc[data['VUV'] == 1] #only the timesteps where the participant is talking\n",
    "    participant_data = participant_data.mean() #mean for every column\n",
    "    #locate information for PHQ8 and gender for participant\n",
    "    patient_depression_binary = depression_data.loc[depression_data['Participant_ID'] == patientId]['PHQ8_Binary'].values[0]\n",
    "    patient_depression_score = depression_data.loc[depression_data['Participant_ID'] == patientId]['PHQ8_Score'].values[0]\n",
    "    patient_gender = depression_data.loc[depression_data['Participant_ID'] == patientId]['Gender'].values[0]\n",
    "    \n",
    "    participant_data['PHQ8_Binary'] = patient_depression_binary\n",
    "    participant_data['PHQ8_Score'] = patient_depression_score\n",
    "    participant_data['Gender'] = patient_gender\n",
    "    participant_data['patientId'] = patientId\n",
    "    return participant_data.to_frame().T\n",
    "\n",
    "participants_data_mean = pd.DataFrame([])\n",
    "for patientId in range(300, 493):\n",
    "    if (patientId == 342 or patientId == 394 or patientId == 398 or patientId == 460):\n",
    "        print(\"no patient\")\n",
    "    else:\n",
    "        participants_data_mean = pd.concat([participants_data_mean, import_csv_mean(patientId)])\n",
    "\n",
    "#export new dataframe with means for each participant (189 rows)\n",
    "participants_data_mean.to_csv('COVAREP_and_depression_data_mean.csv') \n",
    "\n"
   ]
  },
  {
   "cell_type": "code",
   "execution_count": 10,
   "metadata": {},
   "outputs": [
    {
     "name": "stdout",
     "output_type": "stream",
     "text": [
      "<class 'pandas.core.frame.DataFrame'>\n",
      "Int64Index: 189 entries, 0 to 0\n",
      "Data columns (total 78 columns):\n",
      " #   Column       Non-Null Count  Dtype  \n",
      "---  ------       --------------  -----  \n",
      " 0   F0           189 non-null    float64\n",
      " 1   VUV          189 non-null    float64\n",
      " 2   NAQ          189 non-null    float64\n",
      " 3   QOQ          189 non-null    float64\n",
      " 4   H1H2         189 non-null    float64\n",
      " 5   PSP          189 non-null    float64\n",
      " 6   MDQ          189 non-null    float64\n",
      " 7   peakSlope    189 non-null    float64\n",
      " 8   Rd           189 non-null    float64\n",
      " 9   Rd_conf      189 non-null    float64\n",
      " 10  creak        189 non-null    float64\n",
      " 11  MCEP_0       189 non-null    float64\n",
      " 12  MCEP_1       189 non-null    float64\n",
      " 13  MCEP_2       189 non-null    float64\n",
      " 14  MCEP_3       189 non-null    float64\n",
      " 15  MCEP_4       189 non-null    float64\n",
      " 16  MCEP_5       189 non-null    float64\n",
      " 17  MCEP_6       189 non-null    float64\n",
      " 18  MCEP_7       189 non-null    float64\n",
      " 19  MCEP_8       189 non-null    float64\n",
      " 20  MCEP_9       189 non-null    float64\n",
      " 21  MCEP_10      189 non-null    float64\n",
      " 22  MCEP_11      189 non-null    float64\n",
      " 23  MCEP_12      189 non-null    float64\n",
      " 24  MCEP_13      189 non-null    float64\n",
      " 25  MCEP_14      189 non-null    float64\n",
      " 26  MCEP_15      189 non-null    float64\n",
      " 27  MCEP_16      189 non-null    float64\n",
      " 28  MCEP_17      189 non-null    float64\n",
      " 29  MCEP_18      189 non-null    float64\n",
      " 30  MCEP_19      189 non-null    float64\n",
      " 31  MCEP_20      189 non-null    float64\n",
      " 32  MCEP_21      189 non-null    float64\n",
      " 33  MCEP_22      189 non-null    float64\n",
      " 34  MCEP_23      189 non-null    float64\n",
      " 35  MCEP_24      189 non-null    float64\n",
      " 36  HMPDM_0      189 non-null    float64\n",
      " 37  HMPDM_1      189 non-null    float64\n",
      " 38  HMPDM_2      189 non-null    float64\n",
      " 39  HMPDM_3      189 non-null    float64\n",
      " 40  HMPDM_4      189 non-null    float64\n",
      " 41  HMPDM_5      189 non-null    float64\n",
      " 42  HMPDM_6      189 non-null    float64\n",
      " 43  HMPDM_7      189 non-null    float64\n",
      " 44  HMPDM_8      189 non-null    float64\n",
      " 45  HMPDM_9      189 non-null    float64\n",
      " 46  HMPDM_10     189 non-null    float64\n",
      " 47  HMPDM_11     189 non-null    float64\n",
      " 48  HMPDM_12     189 non-null    float64\n",
      " 49  HMPDM_13     189 non-null    float64\n",
      " 50  HMPDM_14     189 non-null    float64\n",
      " 51  HMPDM_15     189 non-null    float64\n",
      " 52  HMPDM_16     189 non-null    float64\n",
      " 53  HMPDM_17     189 non-null    float64\n",
      " 54  HMPDM_18     189 non-null    float64\n",
      " 55  HMPDM_19     189 non-null    float64\n",
      " 56  HMPDM_20     189 non-null    float64\n",
      " 57  HMPDM_21     189 non-null    float64\n",
      " 58  HMPDM_22     189 non-null    float64\n",
      " 59  HMPDM_23     189 non-null    float64\n",
      " 60  HMPDM_24     189 non-null    float64\n",
      " 61  HMPDD_0      189 non-null    float64\n",
      " 62  HMPDD_1      189 non-null    float64\n",
      " 63  HMPDD_2      189 non-null    float64\n",
      " 64  HMPDD_3      189 non-null    float64\n",
      " 65  HMPDD_4      189 non-null    float64\n",
      " 66  HMPDD_5      189 non-null    float64\n",
      " 67  HMPDD_6      189 non-null    float64\n",
      " 68  HMPDD_7      189 non-null    float64\n",
      " 69  HMPDD_8      189 non-null    float64\n",
      " 70  HMPDD_9      189 non-null    float64\n",
      " 71  HMPDD_10     189 non-null    float64\n",
      " 72  HMPDD_11     189 non-null    float64\n",
      " 73  HMPDD_12     189 non-null    float64\n",
      " 74  PHQ8_Binary  189 non-null    float64\n",
      " 75  PHQ8_Score   189 non-null    float64\n",
      " 76  Gender       189 non-null    float64\n",
      " 77  patientId    189 non-null    float64\n",
      "dtypes: float64(78)\n",
      "memory usage: 116.6 KB\n"
     ]
    }
   ],
   "source": [
    "#check dataframe\n",
    "participants_data_mean.info()"
   ]
  }
 ],
 "metadata": {
  "kernelspec": {
   "display_name": "Python 3",
   "language": "python",
   "name": "python3"
  },
  "language_info": {
   "codemirror_mode": {
    "name": "ipython",
    "version": 3
   },
   "file_extension": ".py",
   "mimetype": "text/x-python",
   "name": "python",
   "nbconvert_exporter": "python",
   "pygments_lexer": "ipython3",
   "version": "3.10.9 (main, Dec 15 2022, 10:44:50) [Clang 14.0.0 (clang-1400.0.29.202)]"
  },
  "orig_nbformat": 4,
  "vscode": {
   "interpreter": {
    "hash": "b0fa6594d8f4cbf19f97940f81e996739fb7646882a419484c72d19e05852a7e"
   }
  }
 },
 "nbformat": 4,
 "nbformat_minor": 2
}
